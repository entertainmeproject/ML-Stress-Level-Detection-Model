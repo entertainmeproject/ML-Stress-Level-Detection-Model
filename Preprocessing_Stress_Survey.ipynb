{
  "nbformat": 4,
  "nbformat_minor": 0,
  "metadata": {
    "colab": {
      "provenance": []
    },
    "kernelspec": {
      "name": "python3",
      "display_name": "Python 3"
    },
    "language_info": {
      "name": "python"
    }
  },
  "cells": [
    {
      "cell_type": "markdown",
      "source": [
        "Import Library"
      ],
      "metadata": {
        "id": "goMJ_EXu9krB"
      }
    },
    {
      "cell_type": "code",
      "execution_count": null,
      "metadata": {
        "id": "DzZiiiAWNvo6"
      },
      "outputs": [],
      "source": [
        "import pandas as pd\n",
        "import math\n",
        "import requests"
      ]
    },
    {
      "cell_type": "markdown",
      "source": [
        "Import Dataset"
      ],
      "metadata": {
        "id": "-RBzVaMD9qGO"
      }
    },
    {
      "cell_type": "code",
      "source": [
        "df = pd.read_csv('dataset_3.csv')"
      ],
      "metadata": {
        "collapsed": true,
        "id": "f8ypLmIjN0lM"
      },
      "execution_count": null,
      "outputs": []
    },
    {
      "cell_type": "code",
      "source": [
        "print(df.head())"
      ],
      "metadata": {
        "colab": {
          "base_uri": "https://localhost:8080/"
        },
        "collapsed": true,
        "id": "ANlBcwgvqsRU",
        "outputId": "53a12121-4f03-472c-c73a-388041cbe129"
      },
      "execution_count": null,
      "outputs": [
        {
          "output_type": "stream",
          "name": "stdout",
          "text": [
            "   Person ID Gender  Age            Occupation  Sleep Duration  \\\n",
            "0          1   Male   27     Software Engineer             6.1   \n",
            "1          2   Male   28                Doctor             6.2   \n",
            "2          3   Male   28                Doctor             6.2   \n",
            "3          4   Male   28  Sales Representative             5.9   \n",
            "4          5   Male   28  Sales Representative             5.9   \n",
            "\n",
            "   Quality of Sleep  Physical Activity Level  Stress Level BMI Category  \\\n",
            "0                 6                       42             6   Overweight   \n",
            "1                 6                       60             8       Normal   \n",
            "2                 6                       60             8       Normal   \n",
            "3                 4                       30             8        Obese   \n",
            "4                 4                       30             8        Obese   \n",
            "\n",
            "  Blood Pressure  Heart Rate  Daily Steps Sleep Disorder  \n",
            "0         126/83          77         4200            NaN  \n",
            "1         125/80          75        10000            NaN  \n",
            "2         125/80          75        10000            NaN  \n",
            "3         140/90          85         3000    Sleep Apnea  \n",
            "4         140/90          85         3000    Sleep Apnea  \n"
          ]
        }
      ]
    },
    {
      "cell_type": "markdown",
      "source": [
        "Buang Kolom yang Tidak Dipakai"
      ],
      "metadata": {
        "id": "TNtlFkcW92ZL"
      }
    },
    {
      "cell_type": "code",
      "source": [
        "df = df.drop(columns=['Person ID', 'Gender', 'Age', 'Occupation'])"
      ],
      "metadata": {
        "id": "Nw3kM2TZPQeq"
      },
      "execution_count": null,
      "outputs": []
    },
    {
      "cell_type": "code",
      "source": [
        "print(df.head())"
      ],
      "metadata": {
        "colab": {
          "base_uri": "https://localhost:8080/"
        },
        "id": "H92pyrTxQqwo",
        "outputId": "8de23203-32d9-49ee-ade7-0e9a9b308f91"
      },
      "execution_count": null,
      "outputs": [
        {
          "output_type": "stream",
          "name": "stdout",
          "text": [
            "   Sleep Duration  Quality of Sleep  Physical Activity Level  Stress Level  \\\n",
            "0             6.1                 6                       42             6   \n",
            "1             6.2                 6                       60             8   \n",
            "2             6.2                 6                       60             8   \n",
            "3             5.9                 4                       30             8   \n",
            "4             5.9                 4                       30             8   \n",
            "\n",
            "  BMI Category Blood Pressure  Heart Rate  Daily Steps Sleep Disorder  \n",
            "0   Overweight         126/83          77         4200            NaN  \n",
            "1       Normal         125/80          75        10000            NaN  \n",
            "2       Normal         125/80          75        10000            NaN  \n",
            "3        Obese         140/90          85         3000    Sleep Apnea  \n",
            "4        Obese         140/90          85         3000    Sleep Apnea  \n"
          ]
        }
      ]
    },
    {
      "cell_type": "code",
      "source": [
        "nilai_max_min = df['Daily Steps'].agg(['max', 'min'])\n",
        "print(nilai_max_min)"
      ],
      "metadata": {
        "colab": {
          "base_uri": "https://localhost:8080/"
        },
        "id": "0YqKcdf6GXU8",
        "outputId": "93f9cfb0-61d9-4796-ec8c-059c1f938fbb"
      },
      "execution_count": null,
      "outputs": [
        {
          "output_type": "stream",
          "name": "stdout",
          "text": [
            "max    10000\n",
            "min     3000\n",
            "Name: Daily Steps, dtype: int64\n"
          ]
        }
      ]
    },
    {
      "cell_type": "code",
      "source": [
        "print(df.dtypes)"
      ],
      "metadata": {
        "colab": {
          "base_uri": "https://localhost:8080/"
        },
        "collapsed": true,
        "id": "sZV8SfqJ8KKM",
        "outputId": "4770f7b5-734a-45d8-f509-13c7bbcdb43e"
      },
      "execution_count": null,
      "outputs": [
        {
          "output_type": "stream",
          "name": "stdout",
          "text": [
            "Sleep Duration             float64\n",
            "Quality of Sleep             int64\n",
            "Physical Activity Level      int64\n",
            "Stress Level                 int64\n",
            "BMI Category                object\n",
            "Blood Pressure              object\n",
            "Heart Rate                   int64\n",
            "Daily Steps                  int64\n",
            "Sleep Disorder              object\n",
            "dtype: object\n"
          ]
        }
      ]
    },
    {
      "cell_type": "code",
      "source": [
        "missing_values = df.isnull().sum()\n",
        "\n",
        "print(missing_values)\n",
        "\n",
        "check = df.isnull().sum()\n"
      ],
      "metadata": {
        "colab": {
          "base_uri": "https://localhost:8080/"
        },
        "collapsed": true,
        "id": "u9Ucq5iUdspr",
        "outputId": "2414c94f-8a30-437b-df40-a1be88d07814"
      },
      "execution_count": null,
      "outputs": [
        {
          "output_type": "stream",
          "name": "stdout",
          "text": [
            "Sleep Duration               0\n",
            "Quality of Sleep             0\n",
            "Physical Activity Level      0\n",
            "Stress Level                 0\n",
            "BMI Category                 0\n",
            "Blood Pressure               0\n",
            "Heart Rate                   0\n",
            "Daily Steps                  0\n",
            "Sleep Disorder             219\n",
            "dtype: int64\n"
          ]
        }
      ]
    },
    {
      "cell_type": "code",
      "source": [
        "df['Quality of Sleep'] = df['Quality of Sleep'].astype('int64')\n",
        "df['Physical Activity Level'] = df['Physical Activity Level'].astype('int64')"
      ],
      "metadata": {
        "collapsed": true,
        "id": "rucTHFoL8Z6o"
      },
      "execution_count": null,
      "outputs": []
    },
    {
      "cell_type": "markdown",
      "source": [
        "Perbaiki kolom Sleep Disorder"
      ],
      "metadata": {
        "id": "0hu4VBEbTKjv"
      }
    },
    {
      "cell_type": "code",
      "source": [
        "df['Sleep Disorder'] = df['Sleep Disorder'].apply(lambda x: 'No' if pd.isnull(x) else 'Yes')\n",
        "\n",
        "print(df)"
      ],
      "metadata": {
        "colab": {
          "base_uri": "https://localhost:8080/"
        },
        "id": "RsxRbXKLKCvh",
        "outputId": "2276b112-528c-4e92-fa67-510cca33d91e"
      },
      "execution_count": null,
      "outputs": [
        {
          "output_type": "stream",
          "name": "stdout",
          "text": [
            "     Sleep Duration  Quality of Sleep  Physical Activity Level  Stress Level  \\\n",
            "0               6.1                 6                       42             6   \n",
            "1               6.2                 6                       60             8   \n",
            "2               6.2                 6                       60             8   \n",
            "3               5.9                 4                       30             8   \n",
            "4               5.9                 4                       30             8   \n",
            "..              ...               ...                      ...           ...   \n",
            "369             8.1                 9                       75             3   \n",
            "370             8.0                 9                       75             3   \n",
            "371             8.1                 9                       75             3   \n",
            "372             8.1                 9                       75             3   \n",
            "373             8.1                 9                       75             3   \n",
            "\n",
            "    BMI Category Blood Pressure  Heart Rate  Daily Steps Sleep Disorder  \n",
            "0     Overweight         126/83          77         4200             No  \n",
            "1         Normal         125/80          75        10000             No  \n",
            "2         Normal         125/80          75        10000             No  \n",
            "3          Obese         140/90          85         3000            Yes  \n",
            "4          Obese         140/90          85         3000            Yes  \n",
            "..           ...            ...         ...          ...            ...  \n",
            "369   Overweight         140/95          68         7000            Yes  \n",
            "370   Overweight         140/95          68         7000            Yes  \n",
            "371   Overweight         140/95          68         7000            Yes  \n",
            "372   Overweight         140/95          68         7000            Yes  \n",
            "373   Overweight         140/95          68         7000            Yes  \n",
            "\n",
            "[374 rows x 9 columns]\n"
          ]
        }
      ]
    },
    {
      "cell_type": "markdown",
      "source": [
        "Download Dataset Baru"
      ],
      "metadata": {
        "id": "kuo_QFm4VLve"
      }
    },
    {
      "cell_type": "code",
      "source": [
        "df.to_csv('dataset_clean.csv', index=False)"
      ],
      "metadata": {
        "id": "DbeYHQ8kVLMU"
      },
      "execution_count": null,
      "outputs": []
    }
  ]
}